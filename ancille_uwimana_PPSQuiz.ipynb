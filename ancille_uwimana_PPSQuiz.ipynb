{
 "cells": [
  {
   "cell_type": "markdown",
   "id": "44faaf79",
   "metadata": {},
   "source": [
    "#1.harmonic oscillation\n",
    "a.analytical solution of this equation\n",
    "\n",
    "$dxdt=u\\\\\n",
    "dudt=-x$\\\\\n",
    "let  $dudt=r^2\\\\\n",
    "r^2=-1\\\\\n",
    "r=sqrt(-1)\\\\\n",
    "r=i$\\\\\n",
    "and we know that $ r=alpha+beta*i\\\\\n",
    "alpha=0,beta=1\\\\\n",
    "x(t)=exp(-alpha*t)(A*cos(beta*t)+B*i*sin(beta*t))$\\\\\n",
    "at $t=0\\\\\n",
    "x(0)=A*cos(0)+B*i*sin(0)=1\\\\\n",
    "A=1\\\n",
    "v(t)=-A*sin(t)+B*i*sin(t)\\\\\n",
    "v(0)=-1\\\\\n",
    "v(0)=-A*sin(0)+B*i*cos(0)=-1\\\\\n",
    "B*i=-1\\\n",
    "B=-1/i=-1*i/i^2=i where i^2=-1\\\\\n",
    "x(t)=Acos(t)-B*i*sin(t)\\\\\n",
    "x(t)=cos(t)-sin(t)$\n",
    "\n",
    "the period of motion is $T=2\\times3.14\\times f$"
   ]
  },
  {
   "cell_type": "code",
   "execution_count": 31,
   "id": "640df249",
   "metadata": {},
   "outputs": [],
   "source": [
    "#b anharmonic oscillation\n",
    "import numpy as np\n",
    "import matplotlib.pyplot as plt\n",
    "def EulerMethod(a,b,delta=0.01):\n",
    "    N=int((b-a)/delta)+1\n",
    "    t=np.linspace(a,b,N)\n",
    "    x=np.zeros(N)\n",
    "    v=np.zeros(N)\n",
    "    x[0]=0\n",
    "    x[0]=1\n",
    "    v[0]=0\n",
    "    for i in range(N-1):\n",
    "        x[i+1]=(-x[i]-x[i]**3)+delta*v[i]+(1/2)*delta**2*(-x[i])\n",
    "        v[i+1]=v[i]+(1/2)*((-x[i])+(-x[i+1]))*delta\n",
    "    return np.array([x,v])"
   ]
  },
  {
   "cell_type": "code",
   "execution_count": 32,
   "id": "0ab30dc9",
   "metadata": {},
   "outputs": [
    {
     "name": "stderr",
     "output_type": "stream",
     "text": [
      "<ipython-input-31-e0bf4cf46bfe>:13: RuntimeWarning: overflow encountered in double_scalars\n",
      "  x[i+1]=(-x[i]-x[i]**3)+delta*v[i]+(1/2)*delta**2*(-x[i])\n",
      "<ipython-input-31-e0bf4cf46bfe>:14: RuntimeWarning: invalid value encountered in double_scalars\n",
      "  v[i+1]=v[i]+(1/2)*((-x[i])+(-x[i+1]))*delta\n"
     ]
    },
    {
     "data": {
      "image/png": "[encoded data removed]",
      "text/plain": [
       "<Figure size 432x288 with 1 Axes>"
      ]
     },
     "metadata": {
      "needs_background": "light"
     },
     "output_type": "display_data"
    }
   ],
   "source": [
    "a=0\n",
    "b=10\n",
    "delta=0.01\n",
    "N=int((b-a)/delta)+1\n",
    "t=np.linspace(a,b,N)\n",
    "y=EulerMethod(a,b,delta=0.01)[0]\n",
    "g=lambda t:np.cos(t)-np.sin(t)\n",
    "x_ex=g(t)\n",
    "plt.plot(t,y,'r')\n",
    "plt.plot(t,x_ex,'g')\n",
    "plt.xlabel('time')\n",
    "plt.ylabel('approximate and exact on harmonic oscillation')\n",
    "plt.legend(['approximate','exact'])\n",
    "plt.show()"
   ]
  },
  {
   "cell_type": "markdown",
   "id": "29685c24",
   "metadata": {},
   "source": [
    "#c\n",
    "when the amplitude is small the anharmonic will decrease\n"
   ]
  },
  {
   "cell_type": "code",
   "execution_count": null,
   "id": "a22db412",
   "metadata": {},
   "outputs": [],
   "source": []
  }
 ],
 "metadata": {
  "kernelspec": {
   "display_name": "Python 3",
   "language": "python",
   "name": "python3"
  },
  "language_info": {
   "codemirror_mode": {
    "name": "ipython",
    "version": 3
   },
   "file_extension": ".py",
   "mimetype": "text/x-python",
   "name": "python",
   "nbconvert_exporter": "python",
   "pygments_lexer": "ipython3",
   "version": "3.9.2"
  }
 },
 "nbformat": 4,
 "nbformat_minor": 5
}
